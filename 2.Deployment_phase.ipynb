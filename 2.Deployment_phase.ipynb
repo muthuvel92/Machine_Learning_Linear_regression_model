{
 "cells": [
  {
   "cell_type": "code",
   "id": "4c7762b2-a72b-4569-8542-c1b920c2db88",
   "metadata": {
    "ExecuteTime": {
     "end_time": "2024-09-06T14:24:42.083715Z",
     "start_time": "2024-09-06T14:24:42.081119Z"
    }
   },
   "source": [
    "#To deploy we will import, please save all the files in same location to avoid error\n",
    "import pickle"
   ],
   "outputs": [],
   "execution_count": 6
  },
  {
   "cell_type": "code",
   "id": "42ed36b6-7946-42f8-ae56-cfeb8c3cdf5c",
   "metadata": {
    "ExecuteTime": {
     "end_time": "2024-09-06T14:24:42.099595Z",
     "start_time": "2024-09-06T14:24:42.084727Z"
    }
   },
   "source": [
    "loaded_model = pickle.load(open(\"final_model_linear.sav\",'rb'))\n",
    "result = loaded_model.predict([[13]])"
   ],
   "outputs": [],
   "execution_count": 7
  },
  {
   "cell_type": "code",
   "id": "0a788d14-e8df-4f22-8a83-378311c4b539",
   "metadata": {
    "ExecuteTime": {
     "end_time": "2024-09-06T14:24:42.102626Z",
     "start_time": "2024-09-06T14:24:42.099595Z"
    }
   },
   "source": "print(f\"Prediction for 13: {result}\")",
   "outputs": [
    {
     "name": "stdout",
     "output_type": "stream",
     "text": [
      "Prediction for 13: [[148460.78806172]]\n"
     ]
    }
   ],
   "execution_count": 8
  },
  {
   "cell_type": "code",
   "id": "d6710ca5-9cd7-4d89-8163-9b9b7bbc8938",
   "metadata": {
    "ExecuteTime": {
     "end_time": "2024-09-06T14:24:42.106502Z",
     "start_time": "2024-09-06T14:24:42.102626Z"
    }
   },
   "source": [
    "#Comparing with original data we have starting as 1.1exp\n",
    "#Trying the prediction for 0 year experience\n",
    "loaded_model = pickle.load(open(\"final_model_linear.sav\",'rb'))\n",
    "result = loaded_model.predict([[0]])\n"
   ],
   "outputs": [],
   "execution_count": 9
  },
  {
   "cell_type": "code",
   "id": "ffc47436-f338-40c6-85fe-481099c01287",
   "metadata": {
    "ExecuteTime": {
     "end_time": "2024-09-06T14:24:42.110148Z",
     "start_time": "2024-09-06T14:24:42.107507Z"
    }
   },
   "source": [
    "#result will be same as the bias value since its origin(intercept) in the slope diagram of regression\n",
    "# so the model formula will be like(y=wx+b) where=weight & b=bias or origin => y=9360x+26777\n",
    "print(f\"Prediction for 0: {result}\")"
   ],
   "outputs": [
    {
     "name": "stdout",
     "output_type": "stream",
     "text": [
      "Prediction for 0: [[26777.3913412]]\n"
     ]
    }
   ],
   "execution_count": 10
  }
 ],
 "metadata": {
  "kernelspec": {
   "display_name": "Python 3 (ipykernel)",
   "language": "python",
   "name": "python3"
  },
  "language_info": {
   "codemirror_mode": {
    "name": "ipython",
    "version": 3
   },
   "file_extension": ".py",
   "mimetype": "text/x-python",
   "name": "python",
   "nbconvert_exporter": "python",
   "pygments_lexer": "ipython3",
   "version": "3.12.4"
  }
 },
 "nbformat": 4,
 "nbformat_minor": 5
}
