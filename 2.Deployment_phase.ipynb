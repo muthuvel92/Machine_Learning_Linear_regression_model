{
 "cells": [
  {
   "cell_type": "code",
   "execution_count": 3,
   "id": "4c7762b2-a72b-4569-8542-c1b920c2db88",
   "metadata": {},
   "outputs": [],
   "source": [
    "#To deploy we will import, please save all the files in same location to avoid error\n",
    "import pickle"
   ]
  },
  {
   "cell_type": "code",
   "execution_count": 5,
   "id": "42ed36b6-7946-42f8-ae56-cfeb8c3cdf5c",
   "metadata": {},
   "outputs": [
    {
     "name": "stderr",
     "output_type": "stream",
     "text": [
      "/home/muthuvel/anaconda3/lib/python3.12/site-packages/sklearn/base.py:493: UserWarning: X does not have valid feature names, but LinearRegression was fitted with feature names\n",
      "  warnings.warn(\n"
     ]
    }
   ],
   "source": [
    "loaded_model = pickle.load(open(\"final_model_linear.sav\",'rb'))\n",
    "result = loaded_model.predict([[13]])"
   ]
  },
  {
   "cell_type": "code",
   "execution_count": 7,
   "id": "0a788d14-e8df-4f22-8a83-378311c4b539",
   "metadata": {},
   "outputs": [
    {
     "data": {
      "text/plain": [
       "array([[148460.78806172]])"
      ]
     },
     "execution_count": 7,
     "metadata": {},
     "output_type": "execute_result"
    }
   ],
   "source": [
    "result"
   ]
  },
  {
   "cell_type": "code",
   "execution_count": 9,
   "id": "d6710ca5-9cd7-4d89-8163-9b9b7bbc8938",
   "metadata": {},
   "outputs": [
    {
     "name": "stderr",
     "output_type": "stream",
     "text": [
      "/home/muthuvel/anaconda3/lib/python3.12/site-packages/sklearn/base.py:493: UserWarning: X does not have valid feature names, but LinearRegression was fitted with feature names\n",
      "  warnings.warn(\n"
     ]
    }
   ],
   "source": [
    "#Comparing with original data we have starting as 1.1exp\n",
    "#Trying the prediction for 0 year experience\n",
    "loaded_model = pickle.load(open(\"final_model_linear.sav\",'rb'))\n",
    "result = loaded_model.predict([[0]])"
   ]
  },
  {
   "cell_type": "code",
   "execution_count": 21,
   "id": "ffc47436-f338-40c6-85fe-481099c01287",
   "metadata": {},
   "outputs": [
    {
     "data": {
      "text/plain": [
       "array([[26777.3913412]])"
      ]
     },
     "execution_count": 21,
     "metadata": {},
     "output_type": "execute_result"
    }
   ],
   "source": [
    "#result will be same as the bias value since its origin(intercept) in the slope diagram of regression\n",
    "# so the model formula will be like(y=w(weight)x+b(intercept))=> y=9360x+26777(origin)\n",
    "result"
   ]
  },
  {
   "cell_type": "code",
   "execution_count": null,
   "id": "fc0cd7a4-491a-48cf-ae10-140496fcf1b2",
   "metadata": {},
   "outputs": [],
   "source": []
  }
 ],
 "metadata": {
  "kernelspec": {
   "display_name": "Python 3 (ipykernel)",
   "language": "python",
   "name": "python3"
  },
  "language_info": {
   "codemirror_mode": {
    "name": "ipython",
    "version": 3
   },
   "file_extension": ".py",
   "mimetype": "text/x-python",
   "name": "python",
   "nbconvert_exporter": "python",
   "pygments_lexer": "ipython3",
   "version": "3.12.4"
  }
 },
 "nbformat": 4,
 "nbformat_minor": 5
}
